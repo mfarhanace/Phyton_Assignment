{
 "cells": [
  {
   "cell_type": "markdown",
   "metadata": {},
   "source": [
    "## Exercise 1: Write a function to sort the list based on the first letter of the second element\n",
    "\n",
    "lst=[(19542209, \"New York\") ,(4887871, \"Alabama\"), (1420491, \"Hawaii\"), (626299, \"Vermont\"), (1805832, \"West Virginia\"), (39865590, \"California\")]\n"
   ]
  },
  {
   "cell_type": "code",
   "execution_count": 51,
   "metadata": {},
   "outputs": [
    {
     "name": "stdout",
     "output_type": "stream",
     "text": [
      "Orginal List  [(19542209, 'New York'), (4887871, 'Alabama'), (1420491, 'Hawaii'), (626299, 'Vermont'), (1805832, 'West Virginia'), (39865590, 'California')]\n",
      "Sorted List  [(4887871, 'Alabama'), (39865590, 'California'), (1420491, 'Hawaii'), (19542209, 'New York'), (626299, 'Vermont'), (1805832, 'West Virginia')]\n",
      "Sorted List  [(4887871, 'Alabama'), (39865590, 'California'), (1420491, 'Hawaii'), (19542209, 'New York'), (626299, 'Vermont'), (1805832, 'West Virginia')]\n"
     ]
    }
   ],
   "source": [
    "lst=[(19542209, \"New York\") ,(4887871, \"Alabama\"), (1420491, \"Hawaii\"), (626299, \"Vermont\"), (1805832, \"West Virginia\"), (39865590, \"California\")]\n",
    "print(\"Orginal List \" ,lst)\n",
    "\n",
    "from operator import itemgetter\n",
    "sort_=sorted(lst, key = itemgetter(1))\n",
    "print(\"Sorted List \",sort_)\n",
    "\n"
   ]
  },
  {
   "cell_type": "code",
   "execution_count": 53,
   "metadata": {},
   "outputs": [
    {
     "name": "stdout",
     "output_type": "stream",
     "text": [
      "Another Method \n",
      "Orginal List  [(19542209, 'New York'), (4887871, 'Alabama'), (1420491, 'Hawaii'), (626299, 'Vermont'), (1805832, 'West Virginia'), (39865590, 'California')]\n",
      "Sorted List  [(4887871, 'Alabama'), (39865590, 'California'), (1420491, 'Hawaii'), (19542209, 'New York'), (626299, 'Vermont'), (1805832, 'West Virginia')]\n"
     ]
    }
   ],
   "source": [
    "lst=[(19542209, \"New York\") ,(4887871, \"Alabama\"), (1420491, \"Hawaii\"), (626299, \"Vermont\"), (1805832, \"West Virginia\"), (39865590, \"California\")]\n",
    "print(\"Another Method \\nOrginal List \" ,lst)\n",
    "slist=sorted(lst,key = lambda x:x[-1])\n",
    "print(\"Sorted List \",slist)"
   ]
  },
  {
   "cell_type": "code",
   "execution_count": 1,
   "metadata": {},
   "outputs": [
    {
     "name": "stdout",
     "output_type": "stream",
     "text": [
      "Original list: [(19542209, 'New York'), (4887871, 'Alabama'), (1420491, 'Hawaii'), (626299, 'Vermont'), (1805832, 'West Virginia'), (39865590, 'California')]\n",
      "Sorted list: [(4887871, 'Alabama'), (39865590, 'California'), (1420491, 'Hawaii'), (19542209, 'New York'), (626299, 'Vermont'), (1805832, 'West Virginia')]\n"
     ]
    }
   ],
   "source": []
  },
  {
   "cell_type": "markdown",
   "metadata": {},
   "source": [
    "## Exercise 2:  Write a function to sort the list based on the last letter of the second element\n",
    "\n",
    "Use list from previous question"
   ]
  },
  {
   "cell_type": "code",
   "execution_count": 50,
   "metadata": {},
   "outputs": [
    {
     "name": "stdout",
     "output_type": "stream",
     "text": [
      "Orginal List  [(19542209, 'New York'), (4887871, 'Alabama'), (1420491, 'Hawaii'), (626299, 'Vermont'), (1805832, 'West Virginia'), (39865590, 'California')]\n",
      "Sorted List  [(4887871, 'Alabama'), (1805832, 'West Virginia'), (39865590, 'California'), (1420491, 'Hawaii'), (19542209, 'New York'), (626299, 'Vermont')]\n"
     ]
    }
   ],
   "source": [
    "lst=[(19542209, \"New York\") ,(4887871, \"Alabama\"), (1420491, \"Hawaii\"), (626299, \"Vermont\"), (1805832, \"West Virginia\"), (39865590, \"California\")]\n",
    "print(\"Orginal List \" ,lst)\n",
    "slist=sorted(lst,key = lambda x:x[1][-1])\n",
    "print(\"Sorted List \",slist)"
   ]
  },
  {
   "cell_type": "code",
   "execution_count": 2,
   "metadata": {},
   "outputs": [
    {
     "name": "stdout",
     "output_type": "stream",
     "text": [
      "Original list [(19542209, 'New York'), (4887871, 'Alabama'), (1420491, 'Hawaii'), (626299, 'Vermont'), (1805832, 'West Virginia'), (39865590, 'California')]\n",
      "Sorted list [(4887871, 'Alabama'), (1805832, 'West Virginia'), (39865590, 'California'), (1420491, 'Hawaii'), (19542209, 'New York'), (626299, 'Vermont')]\n"
     ]
    }
   ],
   "source": []
  },
  {
   "cell_type": "markdown",
   "metadata": {},
   "source": [
    "## Exercise 3: Create a range from 1 to 8 merge the given list and together to create a new list of tuples.\n",
    "\n",
    "lst1=[\"Energy\", \"Agriculture\", \"Industry\", \"Technology\", \"Finance\", \"Forestry\", \"Transport\"]"
   ]
  },
  {
   "cell_type": "code",
   "execution_count": 61,
   "metadata": {},
   "outputs": [
    {
     "name": "stdout",
     "output_type": "stream",
     "text": [
      "[('Energy', 1), ('Agriculture', 2), ('Industry', 3), ('Technology', 4), ('Finance', 5), ('Forestry', 6), ('Transport', 7)] "
     ]
    }
   ],
   "source": [
    "lst= range(1,9)\n",
    "lst1=[\"Energy\", \"Agriculture\", \"Industry\", \"Technology\", \"Finance\", \"Forestry\", \"Transport\"]\n",
    "map1 = list(zip(lst1,lst))\n",
    "print(map1,end =' ')"
   ]
  },
  {
   "cell_type": "code",
   "execution_count": 3,
   "metadata": {},
   "outputs": [
    {
     "name": "stdout",
     "output_type": "stream",
     "text": [
      "[('Energy', 1), ('Agriculture', 2), ('Industry', 3), ('Technology', 4), ('Finance', 5), ('Forestry', 6), ('Transport', 7)]\n"
     ]
    }
   ],
   "source": []
  },
  {
   "cell_type": "markdown",
   "metadata": {},
   "source": [
    "## Exercise 4: Write a function and create a list consisted of the number of occurence of letter: a (all a's).\n",
    "\n",
    "lst1=[\"Antartica\", \"America\", \"Armania\", \"Australia\", \"Albania\", \"Afganistan\",\"Alaska\"]"
   ]
  },
  {
   "cell_type": "code",
   "execution_count": 145,
   "metadata": {},
   "outputs": [
    {
     "name": "stdout",
     "output_type": "stream",
     "text": [
      "[3, 2, 3, 3, 3, 3, 3]\n",
      "['antartica', 'antartica', 'antartica', 'america', 'america', 'armania', 'armania', 'armania', 'australia', 'australia', 'australia', 'albania', 'albania', 'albania', 'afganistan', 'afganistan', 'afganistan', 'alaska', 'alaska', 'alaska']\n"
     ]
    }
   ],
   "source": [
    "lst1=[\"Antartica\", \"America\", \"Armania\", \"Australia\", \"Albania\", \"Afganistan\",\"Alaska\"]\n",
    "lst=['a','A']\n",
    "count=0\n",
    "ls=[]\n",
    "for i in list(map(str.lower,lst1)):\n",
    "    for a in i:\n",
    "        if(a in 'a'):\n",
    "            count+=1\n",
    "    ls.append(count)\n",
    "    count=0\n",
    "print(ls)\n",
    "\n",
    "hal=[ i for i in list(map(str.lower,lst1)) for a in i if a in 'a' ]\n",
    "print(hal)\n"
   ]
  },
  {
   "cell_type": "code",
   "execution_count": 4,
   "metadata": {},
   "outputs": [
    {
     "name": "stdout",
     "output_type": "stream",
     "text": [
      "[3, 2, 3, 3, 3, 3, 3]\n"
     ]
    }
   ],
   "source": []
  },
  {
   "cell_type": "markdown",
   "metadata": {},
   "source": [
    "## Exercise 5: Write a function filter all the vowels in a given string using filter.\n",
    "\n",
    "str1=\"Inceptz is one of the best institutes to read data science in chennai\""
   ]
  },
  {
   "cell_type": "code",
   "execution_count": 24,
   "metadata": {},
   "outputs": [
    {
     "name": "stdout",
     "output_type": "stream",
     "text": [
      "['I', 'e', 'i', 'o', 'e', 'o', 'e', 'e', 'i', 'i', 'u', 'e', 'o', 'e', 'a', 'a', 'a', 'i', 'e', 'e', 'i', 'e', 'a', 'i']"
     ]
    }
   ],
   "source": [
    "str1=\"Inceptz is one of the best institutes to read data science in chennai\"\n",
    "la=['a','e','i','o','u']\n",
    "val = list(filter(lambda x:x.casefold() in la ,str1))\n",
    "print(val,end='')"
   ]
  },
  {
   "cell_type": "code",
   "execution_count": 5,
   "metadata": {},
   "outputs": [
    {
     "name": "stdout",
     "output_type": "stream",
     "text": [
      "['I', 'e', 'i', 'o', 'e', 'o', 'e', 'e', 'i', 'i', 'u', 'e', 'o', 'e', 'a', 'a', 'a', 'i', 'e', 'e', 'i', 'e', 'a', 'i']\n"
     ]
    }
   ],
   "source": []
  },
  {
   "cell_type": "markdown",
   "metadata": {},
   "source": [
    "## Exercise 6:  Write a function to create a list as the square of elements from the given list if the square is greater than 60\n",
    "\n",
    "lst1=[5, 6, 7 , 8, 9, 10, 12, 14]"
   ]
  },
  {
   "cell_type": "code",
   "execution_count": 91,
   "metadata": {},
   "outputs": [
    {
     "name": "stdout",
     "output_type": "stream",
     "text": [
      "[64, 81, 100, 144, 196]\n"
     ]
    }
   ],
   "source": [
    "ls=[]\n",
    "def returnval(get):\n",
    "    for i in get:\n",
    "        ls.append(i*i)\n",
    "    return ls        \n",
    "    \n",
    "lst1=[5,6,7,8,9,10,12,14]\n",
    "get =list(filter(lambda x:x*x>60,lst1))\n",
    "print(returnval(get))\n"
   ]
  },
  {
   "cell_type": "code",
   "execution_count": 6,
   "metadata": {},
   "outputs": [
    {
     "name": "stdout",
     "output_type": "stream",
     "text": [
      "[64, 81, 100, 144, 196]\n"
     ]
    }
   ],
   "source": []
  },
  {
   "cell_type": "markdown",
   "metadata": {},
   "source": [
    "## Exercise 7: take the words given below as list and write a function and use reduce to make it a sentence\n",
    "Inceptz \n",
    "\n",
    "provides\n",
    "\n",
    "the\n",
    "\n",
    "best\n",
    "\n",
    "inclass \n",
    "\n",
    "trainings \n",
    "\n",
    "and\n",
    "\n",
    "is \n",
    "\n",
    "the \n",
    "\n",
    "best\n"
   ]
  },
  {
   "cell_type": "code",
   "execution_count": 6,
   "metadata": {},
   "outputs": [
    {
     "data": {
      "text/plain": [
       "'Inceptz provides the best inclass trainings and is the best'"
      ]
     },
     "execution_count": 6,
     "metadata": {},
     "output_type": "execute_result"
    }
   ],
   "source": [
    "words_= [\"Inceptz\",\"provides\",\"the\",\"best\",\"inclass\",\"trainings\",\"and\",\"is\",\"the\",\"best\"]\n",
    "from functools import reduce\n",
    "\n",
    "lst =reduce(lambda x,y:x+\" \"+y,words_)\n",
    "lst"
   ]
  },
  {
   "cell_type": "code",
   "execution_count": 7,
   "metadata": {},
   "outputs": [
    {
     "data": {
      "text/plain": [
       "'Inceptez provides the best inclass trainings and is the best'"
      ]
     },
     "execution_count": 7,
     "metadata": {},
     "output_type": "execute_result"
    }
   ],
   "source": []
  },
  {
   "cell_type": "code",
   "execution_count": null,
   "metadata": {},
   "outputs": [],
   "source": []
  }
 ],
 "metadata": {
  "kernelspec": {
   "display_name": "Python 3",
   "language": "python",
   "name": "python3"
  },
  "language_info": {
   "codemirror_mode": {
    "name": "ipython",
    "version": 3
   },
   "file_extension": ".py",
   "mimetype": "text/x-python",
   "name": "python",
   "nbconvert_exporter": "python",
   "pygments_lexer": "ipython3",
   "version": "3.8.3"
  }
 },
 "nbformat": 4,
 "nbformat_minor": 2
}
