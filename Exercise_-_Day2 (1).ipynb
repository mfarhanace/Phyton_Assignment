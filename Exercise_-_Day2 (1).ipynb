{
 "cells": [
  {
   "cell_type": "markdown",
   "metadata": {},
   "source": [
    "### The questions for the exercises are given above the cells and the expected output is given below the cell. Please type the code inserting a new cell below the question because if you run the expected output cell the output would vanish! Happy learning! "
   ]
  },
  {
   "cell_type": "markdown",
   "metadata": {},
   "source": [
    "## 1. Write a Python program to find those numbers which are divisible by 7 and multiple of 5, between 1500 and 2700 (both included). "
   ]
  },
  {
   "cell_type": "code",
   "execution_count": 1,
   "metadata": {},
   "outputs": [
    {
     "name": "stdout",
     "output_type": "stream",
     "text": [
      "1505,1540,1575,1610,1645,1680,1715,1750,1785,1820,1855,1890,1925,1960,1995,2030,2065,2100,2135,2170,2205,2240,2275,2310,2345,2380,2415,2450,2485,2520,2555,2590,2625,2660,2695\n"
     ]
    }
   ],
   "source": [
    "lst =[]      \n",
    "for i in range(1500,2701):\n",
    "    if(int(i%7 ==0) & int(i%5 ==0)):\n",
    "        lst.append(i)        \n",
    "print(*lst,sep=',')"
   ]
  },
  {
   "cell_type": "code",
   "execution_count": null,
   "metadata": {},
   "outputs": [],
   "source": []
  },
  {
   "cell_type": "code",
   "execution_count": 1,
   "metadata": {},
   "outputs": [
    {
     "name": "stdout",
     "output_type": "stream",
     "text": [
      "1505,1540,1575,1610,1645,1680,1715,1750,1785,1820,1855,1890,1925,1960,1995,2030,2065,2100,2135,2170,2205,2240,2275,2310,2345,2380,2415,2450,2485,2520,2555,2590,2625,2660,2695\n"
     ]
    }
   ],
   "source": []
  },
  {
   "cell_type": "markdown",
   "metadata": {},
   "source": [
    "## 2. Write a Python program to construct the following pattern, using a nested for loop.\n"
   ]
  },
  {
   "cell_type": "code",
   "execution_count": 129,
   "metadata": {},
   "outputs": [
    {
     "name": "stdout",
     "output_type": "stream",
     "text": [
      "Enter the number of line5\n",
      "* \n",
      "* * \n",
      "* * * \n",
      "* * * * \n",
      "* * * * * \n",
      "* * * * \n",
      "* * * \n",
      "* * \n",
      "* \n"
     ]
    }
   ],
   "source": [
    "user = int(input(\"Enter the number of line\"))\n",
    "\n",
    "for i in range(user-1):\n",
    "     print(\"* \" * (i+1))\n",
    "        \n",
    "for i in range(user):\n",
    "          print(\"* \" * (user -i))\n",
    "\n",
    "        \n",
    "    \n",
    "    \n"
   ]
  },
  {
   "cell_type": "markdown",
   "metadata": {},
   "source": []
  },
  {
   "cell_type": "code",
   "execution_count": 3,
   "metadata": {},
   "outputs": [
    {
     "name": "stdout",
     "output_type": "stream",
     "text": [
      "\n",
      "* \n",
      "* * \n",
      "* * * \n",
      "* * * * \n",
      "* * * * * \n",
      "* * * * \n",
      "* * * \n",
      "* * \n",
      "* \n"
     ]
    }
   ],
   "source": []
  },
  {
   "cell_type": "markdown",
   "metadata": {},
   "source": [
    "## 3. Write a Python program to count the number of even and odd numbers from a series of numbers."
   ]
  },
  {
   "cell_type": "code",
   "execution_count": 151,
   "metadata": {},
   "outputs": [
    {
     "name": "stdout",
     "output_type": "stream",
     "text": [
      "Enter the numbers Count2\n",
      "123\n",
      "32\n",
      "The count of odd numbers  1\n",
      "The count of even numbers  1\n"
     ]
    }
   ],
   "source": [
    "lst=[]\n",
    "even=0\n",
    "odd=0\n",
    "num=int(input(\"Enter the numbers Count\"))\n",
    "\n",
    "for i in range(num):\n",
    "    numb=int(input())\n",
    "    lst.append(numb)    \n",
    "for i in lst:\n",
    "    if(i%2==0):\n",
    "        even=even+1\n",
    "    else:\n",
    "        odd=odd+1\n",
    "print(\"The count of odd numbers \" ,odd)\n",
    "print(\"The count of even numbers \",even)\n",
    "        \n"
   ]
  },
  {
   "cell_type": "code",
   "execution_count": null,
   "metadata": {},
   "outputs": [],
   "source": []
  },
  {
   "cell_type": "code",
   "execution_count": 4,
   "metadata": {},
   "outputs": [
    {
     "name": "stdout",
     "output_type": "stream",
     "text": [
      "Number of even numbers : 4\n",
      "Number of odd numbers : 5\n"
     ]
    }
   ],
   "source": []
  },
  {
   "cell_type": "markdown",
   "metadata": {},
   "source": [
    "## 4. Write a Python program to find numbers between 100 and 400 (both included) where each digit of a number is an even number. The numbers obtained should be printed in a comma-separated sequence."
   ]
  },
  {
   "cell_type": "code",
   "execution_count": 170,
   "metadata": {},
   "outputs": [
    {
     "name": "stdout",
     "output_type": "stream",
     "text": [
      "200,202,204,206,208,220,222,224,226,228,240,242,244,246,248,260,262,264,266,268,280,282,284,286,288,400\n"
     ]
    }
   ],
   "source": [
    "val = []\n",
    "for i in range(100,401):\n",
    "    \n",
    "    s = str(i)\n",
    "    if (int(s[0])%2==0) and (int(s[1])%2==0) and (int(s[2])%2==0):\n",
    "        val.append(s)\n",
    "print(\",\".join(val))\n",
    "    \n",
    "        \n",
    "    "
   ]
  },
  {
   "cell_type": "markdown",
   "metadata": {},
   "source": [
    "## 5. Write a Python program to calculate a dog's age in dog's years. Go to the editor\n",
    "Note: For the first two years, a dog year is equal to 10.5 human years. After that, each dog year equals 4 human years."
   ]
  },
  {
   "cell_type": "code",
   "execution_count": 145,
   "metadata": {},
   "outputs": [
    {
     "name": "stdout",
     "output_type": "stream",
     "text": [
      "Input a dog's age in human years0\n",
      "The dog's age in dog's years is  0.0\n"
     ]
    }
   ],
   "source": [
    "age = int(input(\"Input a dog's age in human years\"))\n",
    "\n",
    "if(age<=2):\n",
    "    print(\"The dog's age in dog's years is \" ,age*10.5)\n",
    "else:\n",
    "    print(\"The dog's age in dog's years is  \", (10.5*2)+((age-2)*4))\n",
    "    "
   ]
  },
  {
   "cell_type": "markdown",
   "metadata": {},
   "source": [
    "## 6. Write a Python function to find the Max of three numbers."
   ]
  },
  {
   "cell_type": "code",
   "execution_count": 71,
   "metadata": {},
   "outputs": [
    {
     "name": "stdout",
     "output_type": "stream",
     "text": [
      "Enter the number  :34\n",
      "Enter the number  :23\n",
      "Enter the number  :54\n",
      "The given numbers are: [34, 23, 54] and the maximum of three numbers is 54 \n"
     ]
    }
   ],
   "source": [
    "Lst =[]\n",
    "for i in range(0,3):\n",
    "    getno= int(input(\"Enter the number  :\"))\n",
    "    Lst.append(getno)\n",
    "print(\"The given numbers are : {0} and the maximum of three numbers is {1} \".format(Lst,max(Lst)))\n",
    "\n"
   ]
  },
  {
   "cell_type": "code",
   "execution_count": null,
   "metadata": {},
   "outputs": [],
   "source": []
  },
  {
   "cell_type": "markdown",
   "metadata": {},
   "source": [
    "## 7. Write a Python function that takes a number as a parameter and check the number is prime or not."
   ]
  },
  {
   "cell_type": "code",
   "execution_count": 86,
   "metadata": {},
   "outputs": [
    {
     "name": "stdout",
     "output_type": "stream",
     "text": [
      "Enter the Number5\n",
      "This number is a prime number\n"
     ]
    }
   ],
   "source": [
    "def getPrimeNumber(numb):\n",
    "    if numb>1:\n",
    "        for i in range(2,numb):\n",
    "            \n",
    "            if(numb%i==0):\n",
    "                \n",
    "                return \"This number is not a prime number\"\n",
    "                break\n",
    "            else:\n",
    "                return \"This number is a prime number\"\n",
    "        \n",
    "inp=int(input(\"Enter the Number\"))\n",
    "\n",
    "print(getPrimeNumber(inp))\n",
    "    "
   ]
  },
  {
   "cell_type": "code",
   "execution_count": null,
   "metadata": {},
   "outputs": [],
   "source": []
  },
  {
   "cell_type": "markdown",
   "metadata": {},
   "source": [
    "## 8. Write a Python function that accepts a string and calculate the number of upper case letters and lower case letters. Go to the editor\n"
   ]
  },
  {
   "cell_type": "code",
   "execution_count": 100,
   "metadata": {},
   "outputs": [
    {
     "name": "stdout",
     "output_type": "stream",
     "text": [
      "Enter the string to check the caseThis is good\n",
      "No. of Upper case Characters : 1\n",
      "No. of Lower case Characters : 9\n"
     ]
    }
   ],
   "source": [
    "value= input(\"Enter the string to check the case : \")\n",
    "upper=0\n",
    "lower=0\n",
    "for i in value:\n",
    "    if(i.isupper()):\n",
    "        upper = upper + 1\n",
    "    elif(i.islower() ):\n",
    "        lower=lower+1\n",
    "print(\"No. of Upper case Characters :\",upper)\n",
    "print(\"No. of Lower case Characters :\",lower)"
   ]
  },
  {
   "cell_type": "markdown",
   "metadata": {},
   "source": [
    "## 9. Write a Python program to reverse a string. "
   ]
  },
  {
   "cell_type": "code",
   "execution_count": 143,
   "metadata": {},
   "outputs": [
    {
     "name": "stdout",
     "output_type": "stream",
     "text": [
      "Enter the string : fahima\n",
      "The reversed string amihaf\n"
     ]
    }
   ],
   "source": [
    "value = input(\"Enter the string : \")\n",
    "s=\"\"\n",
    "for i in value:\n",
    "    s=i+s\n",
    "print(\"The reversed string\",s)\n",
    "    "
   ]
  },
  {
   "cell_type": "markdown",
   "metadata": {},
   "source": [
    "## 10. Write a Python program to find  the greatest common divisor (gcd) of two integers."
   ]
  },
  {
   "cell_type": "code",
   "execution_count": 142,
   "metadata": {},
   "outputs": [
    {
     "name": "stdout",
     "output_type": "stream",
     "text": [
      "Enter First Number : 60\n",
      "Enter Second Number : 48\n",
      "The  GCD of the number is  12\n"
     ]
    }
   ],
   "source": [
    "def gcd(num1,num2):\n",
    "    if(num2==0):\n",
    "        return num1\n",
    "    else:\n",
    "        return gcd(num2,num1%num2)\n",
    "\n",
    "num1 =int(input(\"Enter First Number : \"))\n",
    "num2 =int(input(\"Enter Second Number : \"))\n",
    "\n",
    "print(\"The  GCD of the number is \", gcd(num1,num2))\n",
    "\n"
   ]
  },
  {
   "cell_type": "code",
   "execution_count": null,
   "metadata": {},
   "outputs": [],
   "source": []
  },
  {
   "cell_type": "code",
   "execution_count": null,
   "metadata": {},
   "outputs": [],
   "source": []
  }
 ],
 "metadata": {
  "kernelspec": {
   "display_name": "Python 3",
   "language": "python",
   "name": "python3"
  },
  "language_info": {
   "codemirror_mode": {
    "name": "ipython",
    "version": 3
   },
   "file_extension": ".py",
   "mimetype": "text/x-python",
   "name": "python",
   "nbconvert_exporter": "python",
   "pygments_lexer": "ipython3",
   "version": "3.7.6"
  }
 },
 "nbformat": 4,
 "nbformat_minor": 4
}
